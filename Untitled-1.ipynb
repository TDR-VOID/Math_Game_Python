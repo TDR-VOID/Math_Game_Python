{
 "cells": [
  {
   "cell_type": "code",
   "execution_count": 1,
   "metadata": {},
   "outputs": [],
   "source": [
    "import random"
   ]
  },
  {
   "cell_type": "code",
   "execution_count": 2,
   "metadata": {},
   "outputs": [
    {
     "name": "stdout",
     "output_type": "stream",
     "text": [
      "1\n"
     ]
    }
   ],
   "source": [
    "# Generate a random number\n",
    "random_num = random.randint(1, 10)\n",
    "print (random_num)"
   ]
  },
  {
   "cell_type": "code",
   "execution_count": 3,
   "metadata": {},
   "outputs": [
    {
     "ename": "NameError",
     "evalue": "name 'first_button' is not defined",
     "output_type": "error",
     "traceback": [
      "\u001b[1;31m---------------------------------------------------------------------------\u001b[0m",
      "\u001b[1;31mNameError\u001b[0m                                 Traceback (most recent call last)",
      "Cell \u001b[1;32mIn[3], line 43\u001b[0m, in \u001b[0;36mLoginWindow.on_login_button_clicked\u001b[1;34m(self)\u001b[0m\n\u001b[0;32m     41\u001b[0m     \u001b[38;5;28mself\u001b[39m\u001b[38;5;241m.\u001b[39muser_name \u001b[38;5;241m=\u001b[39m name  \u001b[38;5;66;03m# Store the user's name\u001b[39;00m\n\u001b[0;32m     42\u001b[0m     QMessageBox\u001b[38;5;241m.\u001b[39minformation(\u001b[38;5;28mself\u001b[39m, \u001b[38;5;124m'\u001b[39m\u001b[38;5;124mWelcome\u001b[39m\u001b[38;5;124m'\u001b[39m, \u001b[38;5;124mf\u001b[39m\u001b[38;5;124m'\u001b[39m\u001b[38;5;124mWelcome, \u001b[39m\u001b[38;5;132;01m{\u001b[39;00mname\u001b[38;5;132;01m}\u001b[39;00m\u001b[38;5;124m!\u001b[39m\u001b[38;5;124m'\u001b[39m)\n\u001b[1;32m---> 43\u001b[0m     \u001b[38;5;28;43mself\u001b[39;49m\u001b[38;5;241;43m.\u001b[39;49m\u001b[43mstart_game_session\u001b[49m\u001b[43m(\u001b[49m\u001b[43m)\u001b[49m\n\u001b[0;32m     44\u001b[0m \u001b[38;5;28;01melse\u001b[39;00m:\n\u001b[0;32m     45\u001b[0m     QMessageBox\u001b[38;5;241m.\u001b[39mwarning(\u001b[38;5;28mself\u001b[39m, \u001b[38;5;124m'\u001b[39m\u001b[38;5;124mInput Error\u001b[39m\u001b[38;5;124m'\u001b[39m, \u001b[38;5;124m'\u001b[39m\u001b[38;5;124mPlease enter your name.\u001b[39m\u001b[38;5;124m'\u001b[39m)\n",
      "Cell \u001b[1;32mIn[3], line 106\u001b[0m, in \u001b[0;36mLoginWindow.start_game_session\u001b[1;34m(self)\u001b[0m\n\u001b[0;32m    103\u001b[0m \u001b[38;5;28mself\u001b[39m\u001b[38;5;241m.\u001b[39mlayout\u001b[38;5;241m.\u001b[39maddLayout(h_layout)\n\u001b[0;32m    105\u001b[0m \u001b[38;5;66;03m# Create refresh button 1\u001b[39;00m\n\u001b[1;32m--> 106\u001b[0m \u001b[38;5;28mself\u001b[39m\u001b[38;5;241m.\u001b[39mrefresh_button1 \u001b[38;5;241m=\u001b[39m QPushButton(\u001b[38;5;28mstr\u001b[39m(\u001b[43mfirst_button\u001b[49m))\n\u001b[0;32m    107\u001b[0m \u001b[38;5;28mself\u001b[39m\u001b[38;5;241m.\u001b[39mrefresh_button1\u001b[38;5;241m.\u001b[39mclicked\u001b[38;5;241m.\u001b[39mconnect(\u001b[38;5;28mself\u001b[39m\u001b[38;5;241m.\u001b[39mrefresh_numbers)\n\u001b[0;32m    108\u001b[0m \u001b[38;5;28mself\u001b[39m\u001b[38;5;241m.\u001b[39mlayout\u001b[38;5;241m.\u001b[39maddWidget(\u001b[38;5;28mself\u001b[39m\u001b[38;5;241m.\u001b[39mrefresh_button1)\n",
      "\u001b[1;31mNameError\u001b[0m: name 'first_button' is not defined"
     ]
    },
    {
     "ename": "SystemExit",
     "evalue": "0",
     "output_type": "error",
     "traceback": [
      "An exception has occurred, use %tb to see the full traceback.\n",
      "\u001b[1;31mSystemExit\u001b[0m\u001b[1;31m:\u001b[0m 0\n"
     ]
    },
    {
     "name": "stderr",
     "output_type": "stream",
     "text": [
      "C:\\Users\\HP\\AppData\\Roaming\\Python\\Python39\\site-packages\\IPython\\core\\interactiveshell.py:3558: UserWarning: To exit: use 'exit', 'quit', or Ctrl-D.\n",
      "  warn(\"To exit: use 'exit', 'quit', or Ctrl-D.\", stacklevel=1)\n"
     ]
    }
   ],
   "source": [
    "import sys\n",
    "from PyQt5.QtWidgets import QApplication, QWidget, QLabel, QLineEdit, QPushButton, QVBoxLayout, QMessageBox, QHBoxLayout\n",
    "from PyQt5.QtCore import Qt\n",
    "import random\n",
    "\n",
    "class LoginWindow(QWidget):\n",
    "    def __init__(self):\n",
    "        super().__init__()\n",
    "        \n",
    "        self.user_name = None  # Initialize user_name attribute\n",
    "        \n",
    "        self.initUI()\n",
    "        \n",
    "    def initUI(self):\n",
    "        self.setWindowTitle('Login Page')\n",
    "        self.setFixedSize(600, 400)\n",
    "        \n",
    "        # Create layout\n",
    "        self.layout = QVBoxLayout()\n",
    "        \n",
    "        # Create label for name entry\n",
    "        self.name_label = QLabel('Enter your name:')\n",
    "        self.layout.addWidget(self.name_label)\n",
    "        \n",
    "        # Create text entry box for the name\n",
    "        self.name_entry = QLineEdit(self)\n",
    "        self.name_entry.setPlaceholderText('Enter your name')\n",
    "        self.layout.addWidget(self.name_entry)\n",
    "        \n",
    "        # Create login button\n",
    "        self.login_button = QPushButton('Login', self)\n",
    "        self.login_button.clicked.connect(self.on_login_button_clicked)\n",
    "        self.layout.addWidget(self.login_button)\n",
    "        \n",
    "        # Set the layout\n",
    "        self.setLayout(self.layout)\n",
    "        \n",
    "    def on_login_button_clicked(self):\n",
    "        name = self.name_entry.text()\n",
    "        if name:\n",
    "            self.user_name = name  # Store the user's name\n",
    "            QMessageBox.information(self, 'Welcome', f'Welcome, {name}!')\n",
    "            self.start_game_session()\n",
    "        else:\n",
    "            QMessageBox.warning(self, 'Input Error', 'Please enter your name.')\n",
    "    \n",
    "    def random_answers(self):\n",
    "        # Generate random numbers for the answers\n",
    "        first_button = random.randint(0, 1000)\n",
    "        second_button = random.randint(0, 1000)\n",
    "        third_button = random.randint(0, 1000)\n",
    "        fourth_button = random.randint(0, 1000)\n",
    "        return first_button, second_button, third_button, fourth_button\n",
    "    \n",
    "    def start_game_session(self):\n",
    "        # Clear the existing layout\n",
    "        for i in reversed(range(self.layout.count())): \n",
    "            widget = self.layout.itemAt(i).widget()\n",
    "            if widget is not None:\n",
    "                widget.setParent(None)\n",
    "        \n",
    "        # Create a label for the game session\n",
    "        game_label = QLabel('Game Session')\n",
    "        self.layout.addWidget(game_label)\n",
    "        \n",
    "        # Display the user's name in the top right corner\n",
    "        name_label = QLabel(self.user_name)\n",
    "        name_label.setAlignment(Qt.AlignRight)\n",
    "        self.layout.addWidget(name_label)\n",
    "        \n",
    "        # Create a horizontal layout for the random number boxes\n",
    "        h_layout = QHBoxLayout()\n",
    "        \n",
    "        # Create left random number box\n",
    "        self.left_box = QLabel()\n",
    "        self.left_box.setStyleSheet(\"QLabel { background-color : lightblue; padding: 10px; border: 1px solid black; }\")\n",
    "        self.left_box.setAlignment(Qt.AlignCenter)\n",
    "        h_layout.addWidget(self.left_box)\n",
    "        \n",
    "        # Create multiplication mark box\n",
    "        self.mul_box = QLabel('×')\n",
    "        self.mul_box.setStyleSheet(\"QLabel { padding: 10px; }\")\n",
    "        self.mul_box.setAlignment(Qt.AlignCenter)\n",
    "        h_layout.addWidget(self.mul_box)\n",
    "        \n",
    "        # Create right random number box\n",
    "        self.right_box = QLabel()\n",
    "        self.right_box.setStyleSheet(\"QLabel { background-color : lightblue; padding: 10px; border: 1px solid black; }\")\n",
    "        self.right_box.setAlignment(Qt.AlignCenter)\n",
    "        h_layout.addWidget(self.right_box)\n",
    "        \n",
    "        self.layout.addLayout(h_layout)\n",
    "        \n",
    "        # Generate random numbers for the buttons\n",
    "        first_button, second_button, third_button, fourth_button = self.random_answers()\n",
    "        \n",
    "        # Create answer buttons with random numbers\n",
    "        self.refresh_button1 = QPushButton(str(first_button))\n",
    "        self.refresh_button1.clicked.connect(self.refresh_numbers)\n",
    "        self.layout.addWidget(self.refresh_button1)\n",
    "        \n",
    "        self.refresh_button2 = QPushButton(str(second_button))\n",
    "        self.refresh_button2.clicked.connect(self.refresh_numbers)\n",
    "        self.layout.addWidget(self.refresh_button2)\n",
    "\n",
    "        self.refresh_button3 = QPushButton(str(third_button))\n",
    "        self.refresh_button3.clicked.connect(self.refresh_numbers)\n",
    "        self.layout.addWidget(self.refresh_button3)\n",
    "        \n",
    "        self.refresh_button4 = QPushButton(str(fourth_button))\n",
    "        self.refresh_button4.clicked.connect(self.refresh_numbers)\n",
    "        self.layout.addWidget(self.refresh_button4)\n",
    "        \n",
    "        # Initial random number generation\n",
    "        self.refresh_numbers()\n",
    "        \n",
    "    def refresh_numbers(self):\n",
    "        # Generate new random numbers and update the boxes\n",
    "        left_value = random.randint(0, 1000)\n",
    "        right_value = random.randint(0, 1000)\n",
    "        \n",
    "        self.left_box.setText(str(left_value))\n",
    "        self.right_box.setText(str(right_value))\n",
    "        \n",
    "if __name__ == '__main__':\n",
    "    app = QApplication(sys.argv)\n",
    "    login_window = LoginWindow()\n",
    "    login_window.show()\n",
    "    sys.exit(app.exec_())\n"
   ]
  }
 ],
 "metadata": {
  "kernelspec": {
   "display_name": "Python 3",
   "language": "python",
   "name": "python3"
  },
  "language_info": {
   "codemirror_mode": {
    "name": "ipython",
    "version": 3
   },
   "file_extension": ".py",
   "mimetype": "text/x-python",
   "name": "python",
   "nbconvert_exporter": "python",
   "pygments_lexer": "ipython3",
   "version": "3.9.12"
  }
 },
 "nbformat": 4,
 "nbformat_minor": 2
}
